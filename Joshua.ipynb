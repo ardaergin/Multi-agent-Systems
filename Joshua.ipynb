{
 "cells": [
  {
   "cell_type": "markdown",
   "id": "141ab43d",
   "metadata": {
    "pycharm": {
     "name": "#%% md\n"
    }
   },
   "source": [
    "Joshua Haas - 2023 \n",
    "Multiagent Systems Individual Assigment \n",
    "\n"
   ]
  },
  {
   "cell_type": "code",
   "execution_count": 611,
   "metadata": {
    "collapsed": false,
    "pycharm": {
     "name": "#%%\n"
    }
   },
   "outputs": [],
   "source": [
    "import matplotlib.pyplot as plt\n",
    "from scipy.stats import beta\n",
    "import pandas as pd\n",
    "import numpy as np\n",
    "import random\n",
    "from collections import defaultdict\n",
    "import seaborn as sns\n",
    "from collections import deque\n",
    "import random"
   ]
  },
  {
   "cell_type": "markdown",
   "id": "9100e053",
   "metadata": {
    "pycharm": {
     "name": "#%% md\n"
    }
   },
   "source": [
    "#### Exercise 1.1"
   ]
  },
  {
   "cell_type": "code",
   "execution_count": null,
   "id": "a1ee9d97",
   "metadata": {
    "pycharm": {
     "is_executing": true,
     "name": "#%%\n"
    }
   },
   "outputs": [],
   "source": [
    "max_k = 202\n",
    "pop = 10**6\n",
    "number_pop = 10\n",
    "\n",
    "def monte_carlo_simulation(p, max_k):\n",
    "    batch_dict = defaultdict(list)\n",
    "\n",
    "    for iteration in range(number_pop):\n",
    "        population = np.random.uniform(low=0, high=1, size=pop)\n",
    "\n",
    "        for k in range(2, max_k):\n",
    "            batch_size = k\n",
    "            number_batches = pop // batch_size\n",
    "            remainder_batch = pop % batch_size\n",
    "            positive_batches = 0 \n",
    "\n",
    "            if remainder_batch != 0: \n",
    "                number_batches += 1 \n",
    "\n",
    "            start = 0\n",
    "            for batch_index in range(number_batches):\n",
    "                if batch_index == number_batches - 1 and remainder_batch != 0:\n",
    "                    end = start + remainder_batch\n",
    "                else:\n",
    "                    end = start + batch_size\n",
    "\n",
    "                batch = population[start:end]\n",
    "                start = end\n",
    "\n",
    "                if any(value <= p for value in batch):\n",
    "                    positive_batches += 1\n",
    "            batch_dict[k].append(positive_batches*k+number_batches)\n",
    "            averages = {k: sum(values)/number_pop for k, values in batch_dict.items()}\n",
    "    return averages\n",
    "\n",
    "p_list = [0.1, 0.05, 0.025, 0.01, 0.005, 0.0025, 0.001, 0.0005, 0.0002, 0.0001]\n",
    "results = []\n",
    "for p in p_list: \n",
    "    mc = monte_carlo_simulation(p, max_k)\n",
    "    optimal_k = min(mc, key=mc.get)\n",
    "    optimal_value = mc[optimal_k]\n",
    "    results.append((p, optimal_k, optimal_value))"
   ]
  },
  {
   "cell_type": "markdown",
   "id": "b4c25ce0",
   "metadata": {
    "pycharm": {
     "name": "#%% md\n"
    }
   },
   "source": [
    "### Exercise 1.2"
   ]
  },
  {
   "cell_type": "code",
   "execution_count": 615,
   "id": "0260635e",
   "metadata": {
    "pycharm": {
     "name": "#%%\n"
    }
   },
   "outputs": [
    {
     "name": "stdout",
     "output_type": "stream",
     "text": [
      "Probability (p) | Optimal Batch Size (k) | Expected Tests\n",
      "------------------------------------------------------------\n",
      "0.1             | 4                       | 593626.4\n",
      "0.05            | 5                       | 425958.0\n",
      "0.025           | 7                       | 305045.9\n",
      "0.01            | 11                      | 195418.8\n",
      "0.005           | 15                      | 139201.0\n",
      "0.0025          | 21                      | 98360.2\n",
      "0.001           | 33                      | 62597.8\n",
      "0.0005          | 46                      | 44546.8\n",
      "0.0002          | 69                      | 28582.8\n",
      "0.0001          | 102                     | 19830.6\n"
     ]
    }
   ],
   "source": [
    "# Printing the results in a structured format\n",
    "print(\"Probability (p) | Optimal Batch Size (k) | Expected Tests\")\n",
    "print(\"-\" * 60)\n",
    "for p, k, value in results:\n",
    "    print(f\"{p:<15} | {k:<23} | {value}\")"
   ]
  },
  {
   "cell_type": "code",
   "execution_count": 619,
   "id": "e679d0cf",
   "metadata": {
    "pycharm": {
     "name": "#%%\n"
    }
   },
   "outputs": [
    {
     "name": "stdout",
     "output_type": "stream",
     "text": [
      "0.1, 4, 593626.4, 406373.6, 40.6\n",
      "0.05, 5, 425958.0, 574042.0, 57.4\n",
      "0.025, 7, 305045.9, 694954.1, 69.5\n",
      "0.01, 11, 195418.8, 804581.2, 80.5\n",
      "0.005, 15, 139201.0, 860799.0, 86.1\n",
      "0.0025, 21, 98360.2, 901639.8, 90.2\n",
      "0.001, 33, 62597.8, 937402.2, 93.7\n",
      "0.0005, 46, 44546.8, 955453.2, 95.5\n",
      "0.0002, 69, 28582.8, 971417.2, 97.1\n",
      "0.0001, 102, 19830.6, 980169.4, 98.0\n"
     ]
    }
   ],
   "source": [
    "for p, k, value in results:\n",
    "    print(f\"{p}, {k}, {value}, {10**6 - value}, {100 - round(( (value/ 10**6 ) * 100),1)}\")\n"
   ]
  },
  {
   "cell_type": "markdown",
   "id": "3bfd5f7c",
   "metadata": {
    "pycharm": {
     "name": "#%% md\n"
    }
   },
   "source": [
    "### Exercise 2.1 \n"
   ]
  },
  {
   "cell_type": "code",
   "execution_count": null,
   "id": "98751738",
   "metadata": {
    "pycharm": {
     "name": "#%%\n"
    }
   },
   "outputs": [],
   "source": [
    "number_of_simulations = 10000\n",
    "dictionary_mean = defaultdict(list)\n",
    "dictionary_variance = defaultdict(list)\n",
    "p_list = [0.2,0.4,0.6,0.8]\n",
    "for p in p_list:\n",
    "    alpha = 1\n",
    "    beta = 1\n",
    "    for i in range(number_of_simulations):\n",
    "        mean = 1 / (1 + (beta/alpha))\n",
    "        variance = (alpha * beta) / ((alpha + beta)**2 * (alpha + beta + 1))\n",
    "        dictionary_mean[p].append(mean)\n",
    "        dictionary_variance[p].append(variance)\n",
    "        r = np.random.binomial(1, p)\n",
    "        if r == 1:\n",
    "            alpha = alpha + 1\n",
    "        else:\n",
    "            beta = beta + 1\n"
   ]
  },
  {
   "cell_type": "code",
   "execution_count": null,
   "id": "141318e6",
   "metadata": {
    "pycharm": {
     "name": "#%%\n"
    }
   },
   "outputs": [],
   "source": [
    "\n",
    "# Create a figure with a specified size\n",
    "plt.figure(figsize=(20, 12))\n",
    "\n",
    "# Subplot for p = 0.2\n",
    "plt.subplot(221)  # 2 rows, 2 cols, subplot 1\n",
    "plt.plot(dictionary_mean[0.2], label='Mean')\n",
    "plt.plot(dictionary_variance[0.2], label='Variance', color='red')\n",
    "plt.axhline(y=0.2, color='blue', linestyle='--', label='p-value')\n",
    "plt.xlabel('Iteration',weight='bold')\n",
    "plt.ylabel('Values',weight='bold')\n",
    "plt.title('Mean and Variance Beta Distribution for p=0.4',weight='bold')\n",
    "plt.legend()\n",
    "\n",
    "# Subplot for p = 0.4\n",
    "plt.subplot(222)  # 2 rows, 2 cols, subplot 2\n",
    "plt.plot(dictionary_mean[0.4], label='Mean')\n",
    "plt.plot(dictionary_variance[0.4], label='Variance', color='red')\n",
    "plt.axhline(y=0.4, color='blue', linestyle='--', label='p-value')\n",
    "plt.xlabel('Iteration',weight='bold')\n",
    "plt.ylabel('Values',weight='bold')\n",
    "plt.title('Mean and Variance Beta Distribution for p=0.4',weight='bold')\n",
    "plt.legend()\n",
    "\n",
    "# Subplot for p = 0.6\n",
    "plt.subplot(223)  # 2 rows, 2 cols, subplot 3\n",
    "plt.plot(dictionary_mean[0.6], label='Mean')\n",
    "plt.plot(dictionary_variance[0.6], label='Variance', color='red')\n",
    "plt.axhline(y=0.6, color='blue', linestyle='--', label='p-value')\n",
    "plt.xlabel('Iteration',weight='bold')\n",
    "plt.ylabel('Values',weight='bold')\n",
    "plt.title('Mean and Variance Beta Distribution for p=0.6',weight='bold')\n",
    "plt.legend()\n",
    "\n",
    "# Subplot for p = 0.8\n",
    "plt.subplot(224)  # 2 rows, 2 cols, subplot 4\n",
    "plt.plot(dictionary_mean[0.8], label='Mean')\n",
    "plt.plot(dictionary_variance[0.8], label='Variance', color='red')\n",
    "plt.axhline(y=0.8, color='blue', linestyle='--', label='p-value')\n",
    "plt.xlabel('Iteration',weight='bold')\n",
    "plt.ylabel('Values',weight='bold')\n",
    "plt.title('Mean and Variance Beta Distribution for  p=0.8',weight='bold')\n",
    "plt.legend()\n",
    "\n",
    "# Adjust the layout so that there is no overlap between subplots\n",
    "plt.tight_layout()\n",
    "\n",
    "plt.savefig('Beta_dist.png')\n",
    "\n",
    "# Close the figure to free up memory\n",
    "plt.close()\n"
   ]
  },
  {
   "cell_type": "markdown",
   "id": "4ccfec15",
   "metadata": {
    "pycharm": {
     "name": "#%% md\n"
    }
   },
   "source": [
    "### Exercise 2.2"
   ]
  },
  {
   "cell_type": "code",
   "execution_count": null,
   "id": "b0a184ad",
   "metadata": {
    "pycharm": {
     "name": "#%%\n"
    }
   },
   "outputs": [],
   "source": [
    "# Number of arms\n",
    "K = 3\n",
    "# Set three p values \n",
    "#p = [random.uniform(0,1) for i in range(3)]\n",
    "p = [0.4, 0.2, 0.8]\n",
    "# Initialize alpha and beta parameters for each arm\n",
    "alpha_params = np.ones(K)\n",
    "beta_params = np.ones(K)\n",
    "\n",
    "# Thompson sampling function for K-armed bandit problem\n",
    "def thompson_sampling(alpha_params, beta_params, p, trials=1000):\n",
    "    # Store the history of chosen arms and rewards\n",
    "    p = p \n",
    "    chosen_arms = []\n",
    "    rewards = []\n",
    "    alpha = []\n",
    "    beta = []\n",
    "    for i in range(trials):\n",
    "        # Sample from the beta distribution for each arm\n",
    "        sampled_theta = [np.random.beta(a,b) for a, b in zip(alpha_params, beta_params)]\n",
    "        # Select the arm with the highest sampled value\n",
    "        chosen_arm = np.argmax(sampled_theta)\n",
    "        chosen_arms.append(chosen_arm)\n",
    "        \n",
    "        reward = np.random.binomial(1, p=p[chosen_arm])  # p=0.5 is a placeholder\n",
    "        rewards.append(reward)\n",
    "        alpha.append(alpha_params[chosen_arm])\n",
    "        beta.append(beta_params[chosen_arm])\n",
    "        \n",
    "        # Bayesian update rule \n",
    "        alpha_params[chosen_arm] += reward\n",
    "        beta_params[chosen_arm] += 1 - reward\n",
    "\n",
    "    return chosen_arms, rewards, alpha_params, beta_params,alpha, beta,p\n",
    "\n",
    "# Run the Thompson sampling\n",
    "chosen_arms, rewards, alpha_params, beta_params,alpha,beta, p = thompson_sampling(alpha_params, beta_params,p)"
   ]
  },
  {
   "cell_type": "code",
   "execution_count": null,
   "id": "59d2d027",
   "metadata": {
    "pycharm": {
     "name": "#%%\n"
    }
   },
   "outputs": [],
   "source": [
    "\n",
    "def plot_beta_distributions_from_lists(alpha_values, beta_values,p):\n",
    "    plt.figure(figsize=(10, 6))\n",
    "\n",
    "    # Generating a range of x values between 0 and 1\n",
    "    x_values = np.linspace(0, 1, 500)\n",
    "\n",
    "    # Iterating through the alpha and beta values\n",
    "    for i in range(len(alpha_values)):\n",
    "        alpha_val = alpha_values[i]\n",
    "        beta_val = beta_values[i]\n",
    "\n",
    "        # Calculating the probability density function for the Beta distribution\n",
    "        y_values = beta_dist.pdf(x_values, alpha_val, beta_val)\n",
    "\n",
    "        # Plotting the Beta distribution for this alpha and beta pair\n",
    "        plt.plot(x_values, y_values, label=f'α={alpha}, β={beta_val}')\n",
    "\n",
    "        #plt.axvline(x=p[i], color='k', linestyle='--', label=f'p={p[i]} (True value for Arm {i+1})')\n",
    "\n",
    "    plt.axvline(x=p[0],color='k', linestyle='--')\n",
    "    plt.axvline(x=p[1], color='k', linestyle='--')\n",
    "    plt.axvline(x=p[2], color='k', linestyle='--')\n",
    "    plt.xlabel('Value')\n",
    "    plt.ylabel('Probability Density')\n",
    "    plt.title(f'Beta Distributions for Different α and β Values and p-values:  {[round(p,2) for p in p]}')\n",
    "\n",
    "    plt.savefig('Beta2.png')\n",
    "\n",
    "    plt.close()\n",
    "\n",
    "plot_beta_distributions_from_lists(alpha, beta,p)\n"
   ]
  },
  {
   "cell_type": "markdown",
   "id": "aee1051c",
   "metadata": {
    "pycharm": {
     "name": "#%% md\n"
    }
   },
   "source": [
    "### Exercise 2.3"
   ]
  },
  {
   "cell_type": "markdown",
   "id": "0692e8ea",
   "metadata": {
    "pycharm": {
     "name": "#%% md\n"
    }
   },
   "source": [
    "Perform numerical experiments in which you compare Thompson sampling with the UCB.\n",
    "Use total regret (provide the precise definition that you’re using) as your performance\n",
    "criteria. For UCB, experiment with different values of the hyperparameter c. The fact\n",
    "that, for Thompson sampling, you don’t need to specify an hyperparameter, is a distinct\n",
    "advantage."
   ]
  },
  {
   "cell_type": "code",
   "execution_count": null,
   "id": "0d1f1d3d",
   "metadata": {
    "pycharm": {
     "name": "#%%\n"
    }
   },
   "outputs": [],
   "source": [
    "# Thompson Sampling \n",
    "K = 3\n",
    "# p = [random.uniform(0,1) for i in range(3)]\n",
    "p = [0.3, 0.1, 0.7]\n",
    "# Thompson sampling function for K-armed bandit problem\n",
    "def thompson_sampling(alpha_params, beta_params,K, p, trials=1000):\n",
    "    # Store the history of chosen arms and rewards\n",
    "    p = p \n",
    "    chosen_arms = []\n",
    "    rewards = []\n",
    "    expected_regrets = np.array([])\n",
    "\n",
    "    for i in range(trials):\n",
    "\n",
    "        # Sample from the beta distribution for each arm\n",
    "        sampled_theta = [np.random.beta(a,b) for a, b in zip(alpha_params, beta_params)]\n",
    "\n",
    "        # Select the arm with the highest sampled value\n",
    "        chosen_arm = np.argmax(sampled_theta)\n",
    "        chosen_arms.append(chosen_arm)\n",
    "\n",
    "        reward = np.random.binomial(1, p=p[chosen_arm])\n",
    "        rewards.append(reward)\n",
    "\n",
    "        regret_i = max(p) - p[chosen_arm]\n",
    "        expected_regrets = np.append(expected_regrets,[regret_i])\n",
    "\n",
    "        # Update the Paramters\n",
    "        alpha_params[chosen_arm] += reward\n",
    "        beta_params[chosen_arm] += 1 - reward\n",
    "        \n",
    "\n",
    "    return chosen_arms, rewards, alpha_params, beta_params, expected_regrets\n",
    "\n",
    "# Intialize Beta and alpha values\n",
    "alpha_params = np.ones(K)\n",
    "beta_params = np.ones(K)\n",
    "chosen_arms, rewards, alpha_params, beta_params, expected_regrets_th = thompson_sampling(alpha_params, beta_params,K,p)\n"
   ]
  },
  {
   "cell_type": "code",
   "execution_count": null,
   "id": "fde0a8d3",
   "metadata": {
    "pycharm": {
     "name": "#%%\n"
    }
   },
   "outputs": [],
   "source": [
    "# plt.figure(figsize=(10, 5))\n",
    "# plt.plot(expected_regrets_th.cumsum())\n",
    "# plt.title('Expected Regret Over Iterations')\n",
    "# plt.xlabel('Iterations')\n",
    "# plt.ylabel('Expected Regret')\n",
    "# plt.grid(True)\n",
    "# plt.show()"
   ]
  },
  {
   "cell_type": "code",
   "execution_count": null,
   "id": "2d1fcdcd",
   "metadata": {
    "pycharm": {
     "name": "#%%\n"
    }
   },
   "outputs": [],
   "source": [
    "K = 3 \n",
    "#should be the same \n",
    "true_p = [0.3, 0.1, 0.7]\n",
    "simul = 1000\n",
    "\n",
    "def ucb_algorithm(num_arms, rewards, counts, total_count,c):\n",
    "    ucb_values = [0.0 for _ in range(num_arms)]\n",
    "\n",
    "    if total_count == 0:\n",
    "        return random.randint(0,num_arms)\n",
    "    \n",
    "    for arm in range(num_arms):\n",
    "        if counts[arm] == 0: \n",
    "            Qa = np.infty\n",
    "            upper_bound = 0\n",
    "        else:\n",
    "            Qa = rewards[arm] / counts[arm]\n",
    "            upper_bound = np.sqrt((np.log(total_count) / counts[arm]) * c)\n",
    "        ucb_values[arm] = Qa + upper_bound\n",
    "    return np.argmax(ucb_values)   \n",
    "\n",
    "def simulations(simul,k,true_p,c):\n",
    "    rewards = [0.0 for _ in range(k)]\n",
    "    counts = [0.0 for _ in range(k)]\n",
    "    total_count = 0\n",
    "    expected_regrets = np.array([])\n",
    "\n",
    "    \n",
    "    for _ in range(simul):\n",
    "        chosen_arm = ucb_algorithm(k,rewards,counts,total_count,c)\n",
    "        rewards[chosen_arm] += np.random.binomial(1,true_p[chosen_arm])\n",
    "        counts[chosen_arm] += 1\n",
    "        regret = max(true_p) - true_p[chosen_arm]\n",
    "        expected_regrets = np.append(expected_regrets,[regret])\n",
    "\n",
    "\n",
    "        total_count += 1\n",
    "    \n",
    "    return expected_regrets\n",
    "expected_regrets_c01 = simulations(simul,K,true_p,c=0.1)\n",
    "expected_regrets_c05 = simulations(simul,K,true_p,c=0.5)\n",
    "expected_regrets_c1 = simulations(simul,K,true_p,c=1)\n",
    "expected_regrets_c15 = simulations(simul,K,true_p,c=1.5)\n",
    "expected_regrets_c2 = simulations(simul,K,true_p,c=2)\n",
    "expected_regrets_c25 = simulations(simul,K,true_p,c=2.5)"
   ]
  },
  {
   "cell_type": "code",
   "execution_count": null,
   "id": "3ebc9366",
   "metadata": {
    "pycharm": {
     "name": "#%%\n"
    }
   },
   "outputs": [],
   "source": [
    "# Make Subplots with varying C-values\n",
    "# Plotting the subplots in a grid of 3 rows and 2 columns\n",
    "plt.figure(figsize=(12, 15))  # Adjust size to accommodate 3 rows of subplots\n",
    "\n",
    "# First row, first subplot for c = 0.1\n",
    "plt.subplot(321)\n",
    "plt.plot(expected_regrets_c01.cumsum(), label='UCB')\n",
    "plt.plot(expected_regrets_th.cumsum(), label='Thompson Sampling')\n",
    "plt.title('Total Regret: UCB with c=0.1 vs. Thompson Sampling',weight='bold')\n",
    "plt.legend()\n",
    "plt.xlabel('Iterations',weight = 'bold')\n",
    "plt.ylabel('Total Regret',weight = 'bold')\n",
    "plt.grid(True)\n",
    "\n",
    "# First row, second subplot for c = 0.5\n",
    "plt.subplot(322)\n",
    "plt.plot(expected_regrets_c05.cumsum(), label='UCB')\n",
    "plt.plot(expected_regrets_th.cumsum(), label='Thompson Sampling')\n",
    "plt.title('Total Regret: UCB with c=0.5 vs. Thompson Sampling',weight='bold')\n",
    "plt.legend()\n",
    "plt.xlabel('Iterations',weight = 'bold')\n",
    "plt.ylabel('Total Regret',weight = 'bold')\n",
    "plt.grid(True)\n",
    "\n",
    "# Second row, first subplot for c = 1\n",
    "plt.subplot(323)\n",
    "plt.plot(expected_regrets_c1.cumsum(), label='UCB')\n",
    "plt.plot(expected_regrets_th.cumsum(), label='Thompson Sampling')\n",
    "plt.title('Total Regret: UCB with c= 1 vs. Thompson Sampling',weight='bold')\n",
    "plt.legend()\n",
    "plt.xlabel('Iterations',weight = 'bold')\n",
    "plt.ylabel('Total Regret',weight = 'bold')\n",
    "plt.grid(True)\n",
    "\n",
    "# Second row, second subplot for c = 1.5\n",
    "plt.subplot(324)\n",
    "plt.plot(expected_regrets_c15.cumsum(), label='UCB')\n",
    "plt.plot(expected_regrets_th.cumsum(), label='Thompson Sampling')\n",
    "plt.title('Total Regret: UCB with c= 1.5 vs. Thompson Sampling',weight='bold')\n",
    "plt.legend()\n",
    "plt.xlabel('Iterations',weight = 'bold')\n",
    "plt.ylabel('Total Regret', weight = 'bold')\n",
    "plt.grid(True)\n",
    "\n",
    "# Third row, first subplot for c = 2\n",
    "plt.subplot(325)\n",
    "plt.plot(expected_regrets_c2.cumsum(), label='UCB')\n",
    "plt.plot(expected_regrets_th.cumsum(), label='Thompson Sampling')\n",
    "plt.title('Total Regret: UCB with c=2 vs. Thompson Sampling',weight='bold')\n",
    "plt.legend()\n",
    "plt.xlabel('Iterations',weight='bold')\n",
    "plt.ylabel('Total Regret',  weight='bold')\n",
    "plt.grid(True)\n",
    "\n",
    "# Third row, second subplot for c = 2.5\n",
    "plt.subplot(326)\n",
    "plt.plot(expected_regrets_c25.cumsum(), label='UCB')\n",
    "plt.plot(expected_regrets_th.cumsum(), label='Thompson Sampling')\n",
    "plt.title('Total Regret: UCB with c=2.5 vs. Thompson Sampling',weight='bold')\n",
    "plt.legend()\n",
    "plt.xlabel('Iterations',weight='bold')\n",
    "plt.ylabel('Total Regret', weight='bold')\n",
    "plt.grid(True)\n",
    "\n",
    "# Adjust layout to fit\n",
    "plt.tight_layout()\n",
    "\n",
    "\n",
    "plt.savefig('total_regret.png')\n",
    "\n",
    "# Close the figure to free up memory\n",
    "plt.close()"
   ]
  },
  {
   "cell_type": "markdown",
   "metadata": {
    "collapsed": false,
    "pycharm": {
     "name": "#%% md\n"
    }
   },
   "source": [
    "### Exercise 3.1\n",
    "Reinfrcement Learning\n",
    "Q-learning"
   ]
  },
  {
   "cell_type": "code",
   "execution_count": 10,
   "metadata": {
    "collapsed": false,
    "pycharm": {
     "name": "#%%\n"
    }
   },
   "outputs": [],
   "source": [
    "def create_cliff_environment(rows=4, cols=21):\n",
    "    environment = np.zeros((rows, cols))\n",
    "    return environment\n",
    "\n",
    "def get_reward(state):\n",
    "    if state == 83:\n",
    "        reward = 20\n",
    "        game_ends = True\n",
    "        #print(\"Goal reached\")\n",
    "    elif 64 <= state <= 82:\n",
    "        reward = -100\n",
    "        game_ends = True\n",
    "       # print(\"Fell off cliff\")\n",
    "    else:\n",
    "        reward = -1\n",
    "        game_ends = False\n",
    "    return reward, game_ends\n",
    "\n",
    "\n",
    "def update_agent_position(agent_position, selected_action):\n",
    "    row, col = agent_position\n",
    "    # Moves: 0=up, 1=down, 2=left, 3=right\n",
    "    if selected_action == 0 and row > 0:\n",
    "        row -= 1\n",
    "    elif selected_action == 1 and row < 3:\n",
    "        row += 1\n",
    "    elif selected_action == 2 and col > 0:\n",
    "        col -= 1\n",
    "    elif selected_action == 3 and col < 20:\n",
    "        col += 1\n",
    "    new_position = (row, col)\n",
    "    return new_position\n",
    "\n",
    "\n",
    "\n",
    "\n",
    "\n",
    "\n",
    "\n",
    "\n",
    "\n",
    "\n",
    "\n",
    "def create_q_table(rows=4,cols=21):\n",
    "    q_table = np.zeros((4,rows*cols))\n",
    "    return q_table\n",
    "\n",
    "\n",
    "\n",
    "\n",
    "\n",
    "def get_state(agent_position, q_table):\n",
    "    row, col = agent_position\n",
    "\n",
    "    state = 21 * row + col\n",
    "\n",
    "    state_action = q_table[:, int(state)]\n",
    "    maximum_state_value = np.amax(state_action) # return the state value with for the highest action\n",
    "    return state, maximum_state_value\n",
    "\n",
    "\n",
    "\n",
    "\n",
    "def choose_action(state, q_table, epsilon):\n",
    "\n",
    "    if(np.random.random() < epsilon):\n",
    "        action = np.random.choice(4)\n",
    "    else:\n",
    "        action = np.argmax(q_table[:, state])\n",
    "\n",
    "    return action\n",
    "\n",
    "\n",
    "\n",
    "\n",
    "def update_qtable(q_table, state, action, reward,max_state, gamma=0.9, alpha=0.5):\n",
    "    update_q_value = q_table[action, state] + alpha * (reward + (gamma * max_state) - q_table[action, state])\n",
    "    q_table[action, state] = update_q_value\n",
    "    return q_table\n",
    "\n",
    "def find_optimal_policy(q_table, rows=4, cols=21):\n",
    "\n",
    "    # Initialize the environment and agent's position\n",
    "    start_position=(3, 0)\n",
    "    goal_position=(3, 20)\n",
    "    optimal_policy = np.zeros((rows, cols))\n",
    "    agent_pos = start_position\n",
    "    optimal_policy[agent_pos] = 1\n",
    "    count = 0\n",
    "    # Iterate until the goal position is reached\n",
    "    while agent_pos != goal_position:\n",
    "        state, _ = get_state(agent_pos, q_table)\n",
    "        best_next_move = np.argmax(q_table[:, state])\n",
    "        agent_pos = update_agent_position(agent_pos, best_next_move)\n",
    "        optimal_policy[agent_pos] = 1\n",
    "        count += 1\n",
    "        if count > 300:\n",
    "            optimal_policy_found = False\n",
    "            return \"No optimal policy\", optimal_policy_found\n",
    "    optimal_policy_found = True\n",
    "    return optimal_policy, optimal_policy_found\n",
    "\n",
    "def filter_np_arrays(lst):\n",
    "    return [item for item in lst if isinstance(item, np.ndarray)]\n",
    "\n",
    "\n",
    "\n",
    "\n",
    "\n",
    "\n",
    "\n",
    "\n",
    "# Help Visualziation to index the correct states for the cliff\n",
    "def create_environment(rows=4, cols=21):\n",
    "    environment = np.arange(0, rows * cols ).reshape(rows, cols)\n",
    "    return environment\n",
    "\n",
    "# Create the environment with specified dimensions and values\n",
    "environment = create_environment()\n",
    "\n",
    "def create_cliff_environment(rows=4, cols=21):\n",
    "    # This function is needed to visualize the path of the agent during the game play\n",
    "    environment = np.zeros((rows, cols))\n",
    "    return environment\n",
    "\n",
    "cliff_environment = create_cliff_environment()\n",
    "\n",
    "def reshape_q_table(q_table, rows, cols):\n",
    "    mean_q_values = np.mean(q_table, axis=0)\n",
    "    return mean_q_values.reshape(rows, cols)\n"
   ]
  },
  {
   "cell_type": "code",
   "execution_count": 16,
   "id": "a4887d07",
   "metadata": {},
   "outputs": [],
   "source": [
    "import matplotlib.pyplot as plt\n",
    "import seaborn as sns\n"
   ]
  },
  {
   "cell_type": "code",
   "execution_count": 11,
   "id": "ab78bc70",
   "metadata": {},
   "outputs": [
    {
     "data": {
      "text/plain": [
       "(63, 0.0)"
      ]
     },
     "execution_count": 11,
     "metadata": {},
     "output_type": "execute_result"
    }
   ],
   "source": [
    "import numpy as np\n",
    "q_table = create_q_table()\n",
    "get_state((3,0), q_table)"
   ]
  },
  {
   "cell_type": "markdown",
   "metadata": {
    "collapsed": false,
    "pycharm": {
     "name": "#%% md\n"
    }
   },
   "source": [
    "### Q-learning"
   ]
  },
  {
   "cell_type": "code",
   "execution_count": 12,
   "metadata": {
    "collapsed": false,
    "pycharm": {
     "name": "#%%\n"
    }
   },
   "outputs": [],
   "source": [
    "# Q-learning algorithm\n",
    "def q_learning(epsilon,episodes=1000, gamma=0.9, alpha=0.5):\n",
    "    # Initialize the Q-table\n",
    "    q_table = create_q_table()\n",
    "    # Initialize enviroment\n",
    "    rewards = []\n",
    "\n",
    "    for episode in range(episodes):\n",
    "        environment = create_cliff_environment()\n",
    "        agent_position = (3,0)\n",
    "        environment[agent_position] = 1\n",
    "        game_ends = False\n",
    "        reward_cum = 0\n",
    "        while not game_ends:\n",
    "            agents_state, _= get_state(agent_position,q_table)\n",
    "            action = choose_action(agents_state, q_table,epsilon)\n",
    "            move_agent =  update_agent_position(agent_position, action)\n",
    "            environment[move_agent] = 1\n",
    "            next_state,max_state = get_state(move_agent,q_table)\n",
    "\n",
    "            reward, game_ends = get_reward(next_state)\n",
    "            reward_cum += reward\n",
    "            q_table = update_qtable(q_table, agents_state, action, reward,max_state, gamma, alpha)\n",
    "            agent_position = move_agent\n",
    "        rewards.append(reward_cum)\n",
    "\n",
    "\n",
    "    return q_table,rewards\n",
    "epsilon = 0.1\n",
    "q_table_qlearning, rewards_qlearning  = q_learning(epsilon)"
   ]
  },
  {
   "cell_type": "code",
   "execution_count": 8,
   "id": "27289e48",
   "metadata": {},
   "outputs": [],
   "source": [
    "optimal_path_qlearning,optimal_policies_found = find_optimal_policy(q_table_qlearning)\n"
   ]
  },
  {
   "cell_type": "code",
   "execution_count": 9,
   "id": "a08e9e6f",
   "metadata": {},
   "outputs": [
    {
     "data": {
      "text/plain": [
       "array([[0., 0., 0., 0., 0., 0., 0., 0., 0., 0., 0., 0., 0., 0., 0., 0.,\n",
       "        0., 0., 0., 0., 0.],\n",
       "       [0., 0., 0., 0., 0., 0., 0., 0., 0., 0., 0., 0., 0., 0., 0., 0.,\n",
       "        0., 0., 0., 0., 0.],\n",
       "       [1., 1., 1., 1., 1., 1., 1., 1., 1., 1., 1., 1., 1., 1., 1., 1.,\n",
       "        1., 1., 1., 1., 1.],\n",
       "       [1., 0., 0., 0., 0., 0., 0., 0., 0., 0., 0., 0., 0., 0., 0., 0.,\n",
       "        0., 0., 0., 0., 1.]])"
      ]
     },
     "execution_count": 9,
     "metadata": {},
     "output_type": "execute_result"
    }
   ],
   "source": [
    "optimal_path_qlearning"
   ]
  },
  {
   "cell_type": "code",
   "execution_count": 17,
   "metadata": {
    "collapsed": false,
    "pycharm": {
     "name": "#%%\n"
    }
   },
   "outputs": [
    {
     "data": {
      "image/png": "[encoded data removed]",
      "text/plain": [
       "<Figure size 1000x400 with 1 Axes>"
      ]
     },
     "metadata": {},
     "output_type": "display_data"
    },
    {
     "data": {
      "text/plain": [
       "<Figure size 640x480 with 0 Axes>"
      ]
     },
     "metadata": {},
     "output_type": "display_data"
    }
   ],
   "source": [
    "# Find optimal Policy Q-learning and Plot it\n",
    "optimal_path_qlearning,optimal_policies_found = find_optimal_policy(q_table_qlearning)\n",
    "plt.figure(figsize=(10, 4))\n",
    "sns.heatmap(optimal_path_qlearning, annot= True, cmap=\"coolwarm\", cbar=False, linewidths=.5,)\n",
    "plt.title(\"Cliff Walking, alpha = 0.5, gamma = 0.9, epsilon = 0.1\", weight='bold')\n",
    "plt.show()\n",
    "plt.savefig('Q_learning_cliff.png')"
   ]
  },
  {
   "cell_type": "code",
   "execution_count": 723,
   "metadata": {
    "collapsed": false,
    "pycharm": {
     "name": "#%%\n"
    }
   },
   "outputs": [],
   "source": [
    "# q_table_ht = reshape_q_table(q_table_qlearning, 4, 21)\n",
    "# plt.figure(figsize=(10, 4))\n",
    "# sns.heatmap(q_table_ht, annot= False, cmap=\"coolwarm\", cbar=True, linewidths=.5,)\n",
    "# plt.title(\"Cliff Walking, alpha = 0.5, gamma = 0.9, epsilon = 0.1\", weight='bold')\n",
    "# plt.show()\n",
    "# plt.savefig('Q_learning_cliff-heatmap.png')"
   ]
  },
  {
   "cell_type": "markdown",
   "metadata": {
    "collapsed": false,
    "pycharm": {
     "name": "#%% md\n"
    }
   },
   "source": [
    "#### Replay Buffer Q-learning\n"
   ]
  },
  {
   "cell_type": "code",
   "execution_count": 474,
   "metadata": {
    "collapsed": false,
    "pycharm": {
     "name": "#%%\n"
    }
   },
   "outputs": [],
   "source": [
    "# Q-learning with replay buffer\n",
    "def create_replay_buffer(max_size=100):\n",
    "    return deque(maxlen=max_size)\n",
    "\n",
    "def store_transition(buffer, transition):\n",
    "    buffer.append(transition)\n",
    "\n",
    "def sample_transitions(buffer, batch_size):\n",
    "    return random.sample(buffer, min(batch_size, len(buffer)))\n"
   ]
  },
  {
   "cell_type": "code",
   "execution_count": 724,
   "metadata": {
    "collapsed": false,
    "pycharm": {
     "name": "#%%\n"
    }
   },
   "outputs": [],
   "source": [
    "def q_learning_with_replay(epsilon,episodes=1000, gamma=0.9, alpha =0.5, batch_size=10):\n",
    "    # Initialize the Q-table\n",
    "    q_table = create_q_table()\n",
    "    # Initialize environment\n",
    "    rewards = []\n",
    "    # Initialize replay buffer\n",
    "    replay_buffer = create_replay_buffer(max_size=300)\n",
    "\n",
    "    for episode in range(episodes):\n",
    "        environment = create_cliff_environment()\n",
    "        agent_position = (3, 0)\n",
    "        environment[agent_position] = 1\n",
    "        game_ends = False\n",
    "        reward_cum = 0\n",
    "        while not game_ends:\n",
    "            agents_state, _ = get_state(agent_position, q_table)\n",
    "            action = choose_action(agents_state, q_table, epsilon)\n",
    "            move_agent = update_agent_position(agent_position, action)\n",
    "            environment[move_agent] = 1\n",
    "            next_state, max_state = get_state(move_agent, q_table)\n",
    "\n",
    "            reward, game_ends = get_reward(next_state)\n",
    "            reward_cum += reward\n",
    "\n",
    "            store_transition(replay_buffer, (agents_state, action, reward, next_state, max_state, game_ends))\n",
    "\n",
    "            current_buffer_size = len(replay_buffer)\n",
    "            current_batch_size = min(batch_size, current_buffer_size)\n",
    "            transitions = sample_transitions(replay_buffer, current_batch_size)\n",
    "\n",
    "            for trans in transitions:\n",
    "                state, action, reward, next_state, max_state, game_ends = trans\n",
    "                q_table = update_qtable(q_table, state, action, reward, max_state, gamma, alpha)\n",
    "\n",
    "            agent_position = move_agent\n",
    "\n",
    "        rewards.append(reward_cum)\n",
    "\n",
    "    return q_table, rewards"
   ]
  },
  {
   "cell_type": "code",
   "execution_count": 725,
   "metadata": {
    "collapsed": false,
    "pycharm": {
     "name": "#%%\n"
    }
   },
   "outputs": [],
   "source": [
    "rebuffer_result_qlearning1 = dict()\n",
    "epsilon = 0.1\n",
    "for i in range(10):\n",
    "    q_table_sarsa,rewards_sarsa = q_learning_with_replay(epsilon)\n",
    "    optimal_path, optimal_policy_found = find_optimal_policy(q_table_sarsa)\n",
    "    if optimal_policy_found == True:\n",
    "        rebuffer_result_qlearning1[i] = (optimal_path,q_table_sarsa)\n",
    "    elif i == 9:\n",
    "        rebuffer_result_qlearning1[i] = (optimal_path,q_table_sarsa)"
   ]
  },
  {
   "cell_type": "code",
   "execution_count": 696,
   "metadata": {
    "collapsed": false,
    "pycharm": {
     "name": "#%%\n"
    }
   },
   "outputs": [],
   "source": [
    "rebuffer_result_qlearning = dict()\n",
    "\n",
    "for i in range(10):\n",
    "    q_table_sarsa,rewards_sarsa = q_learning_with_replay(epsilon)\n",
    "    optimal_path, optimal_policy_found = find_optimal_policy(q_table_sarsa)\n",
    "    if optimal_policy_found == True:\n",
    "        rebuffer_result_qlearning[i] = (optimal_path,q_table_sarsa)\n",
    "    elif i == 9:\n",
    "        rebuffer_result_qlearning[i] = (optimal_path,q_table_sarsa)"
   ]
  },
  {
   "cell_type": "code",
   "execution_count": 722,
   "metadata": {
    "collapsed": false,
    "pycharm": {
     "name": "#%%\n"
    }
   },
   "outputs": [
    {
     "data": {
      "image/png": "[encoded data removed]",
      "text/plain": [
       "<Figure size 1000x400 with 1 Axes>"
      ]
     },
     "metadata": {},
     "output_type": "display_data"
    }
   ],
   "source": [
    "# Plot the heatmaps for the different epsilon values SARSA\n",
    "plt.figure(figsize=(10, 4))\n",
    "sns.heatmap(rebuffer_result_qlearning[4][0], annot= True, cmap=\"coolwarm\", cbar=False, linewidths=.5,)\n",
    "plt.title(\"Cliff Walking, alpha = 0.5, gamma = 0.9, epsilon = 0.1\", weight='bold')\n",
    "plt.savefig('Q_learning_cliff_replay.png')\n",
    "plt.show()\n",
    "\n",
    "# reshaped_qtable = reshape_q_table(rebuffer_result_qlearning[4][1], 4, 21)\n",
    "# plt.figure(figsize=(10, 4))\n",
    "# sns.heatmap(reshaped_qtable, annot= False, cmap=\"coolwarm\", cbar=True, linewidths=.5,)\n",
    "# plt.title(\"Cliff Walking, alpha = 0.5, gamma = 0.9, epsilon = 0.1\", weight='bold')\n",
    "# plt.savefig('Q_learning_cliff_replay-heat.png')\n",
    "# plt.show()"
   ]
  },
  {
   "cell_type": "markdown",
   "metadata": {
    "collapsed": false,
    "pycharm": {
     "name": "#%% md\n"
    }
   },
   "source": [
    "#### Sarsa Learning"
   ]
  },
  {
   "cell_type": "code",
   "execution_count": 767,
   "metadata": {
    "collapsed": false,
    "pycharm": {
     "name": "#%%\n"
    }
   },
   "outputs": [],
   "source": [
    "# Sarsa Learning\n",
    "def sarsa_learning(epsilon,episodes=1000,gamma=0.9,alpha=0.5):\n",
    "    # Initialize the Q-table\n",
    "    q_table = create_q_table()\n",
    "    rewards = []\n",
    "    for episode in range(episodes):\n",
    "        environment_sarsa = create_cliff_environment()\n",
    "\n",
    "        agent_position = (3,0)\n",
    "        environment_sarsa[agent_position] = 1\n",
    "        state_sarsa, _ = get_state(agent_position, q_table)\n",
    "        action_sarsa = choose_action(state_sarsa, q_table,epsilon)\n",
    "        game_ends = False\n",
    "        reward_cum = 0\n",
    "        while not game_ends:\n",
    "            agent_position = update_agent_position(agent_position, action_sarsa)\n",
    "            environment_sarsa[agent_position] = 1\n",
    "            next_state, _ = get_state(agent_position, q_table)\n",
    "            reward, game_ends = get_reward(next_state)\n",
    "            reward_cum += reward\n",
    "            next_action = choose_action(next_state, q_table, epsilon)\n",
    "\n",
    "            next_state_q = q_table[next_action][next_state]\n",
    "            q_table = update_qtable(q_table, state_sarsa, action_sarsa, reward, next_state_q, gamma, alpha)\n",
    "            state_sarsa = next_state\n",
    "            action_sarsa = next_action\n",
    "        rewards.append(reward_cum)\n",
    "\n",
    "    return q_table, rewards\n",
    "epsilon =0.1\n",
    "sarsa_q_table,rewards_sarsa = sarsa_learning(epsilon,alpha=0.5)"
   ]
  },
  {
   "cell_type": "code",
   "execution_count": 768,
   "metadata": {
    "collapsed": false,
    "pycharm": {
     "name": "#%%\n"
    }
   },
   "outputs": [
    {
     "data": {
      "text/plain": [
       "Text(0.5, 1.0, 'Cliff Walking, alpha = 0.5, gamma = 0.9, epsilon = 0.1')"
      ]
     },
     "execution_count": 768,
     "metadata": {},
     "output_type": "execute_result"
    },
    {
     "data": {
      "image/png": "[encoded data removed]",
      "text/plain": [
       "<Figure size 1000x400 with 1 Axes>"
      ]
     },
     "metadata": {},
     "output_type": "display_data"
    }
   ],
   "source": [
    "# Find optimal Policy Q-learning and Plot it\n",
    "optimal_path_sarsa = find_optimal_policy(sarsa_q_table)\n",
    "plt.figure(figsize=(10, 4))\n",
    "sns.heatmap(optimal_path_sarsa[0], annot= True, cmap=\"coolwarm\", cbar=False, linewidths=.5,)\n",
    "plt.title(\"Cliff Walking, alpha = 0.5, gamma = 0.9, epsilon = 0.1\", weight='bold')\n",
    "#plt.savefig('Sarsa_cliff.png')\n"
   ]
  },
  {
   "cell_type": "markdown",
   "metadata": {
    "collapsed": false,
    "pycharm": {
     "name": "#%% md\n"
    }
   },
   "source": [
    "#### Sarsa and Q-learning with different epsilon values"
   ]
  },
  {
   "cell_type": "code",
   "execution_count": 672,
   "metadata": {
    "collapsed": false,
    "pycharm": {
     "name": "#%%\n"
    }
   },
   "outputs": [],
   "source": [
    "# Sarsa Learning with different epsilon values\n",
    "epsilon_results_sarsa = dict()\n",
    "\n",
    "for epsilons in np.arange(0.0, 1, 0.1):\n",
    "    epsilon = round(epsilons,1)\n",
    "    optimal_policies = []\n",
    "    for i in range(10):\n",
    "        q_table_sarsa,rewards_sarsa = sarsa_learning(epsilon,gamma=0.9,alpha=0.1)\n",
    "        optimal_path, optimal_policy_found = find_optimal_policy(q_table_sarsa)\n",
    "        if optimal_policy_found == True:\n",
    "            epsilon_results_sarsa[epsilon] = (optimal_path,q_table_sarsa)\n",
    "            break\n",
    "        elif i == 9:\n",
    "            epsilon_results_sarsa[epsilon] = (optimal_path,q_table_sarsa)"
   ]
  },
  {
   "cell_type": "code",
   "execution_count": 665,
   "metadata": {
    "collapsed": false,
    "pycharm": {
     "name": "#%%\n"
    }
   },
   "outputs": [
    {
     "data": {
      "image/png": "[encoded data removed]",
      "text/plain": [
       "<Figure size 2000x800 with 20 Axes>"
      ]
     },
     "metadata": {},
     "output_type": "display_data"
    }
   ],
   "source": [
    "# Plot the heatmaps for the different epsilon values SARSA\n",
    "fig, axes = plt.subplots(nrows=2, ncols=5, figsize=(20, 8))\n",
    "\n",
    "for i, epsilon in enumerate(sorted(epsilon_results_sarsa.keys())):\n",
    "    q_table_sarsa_heatmap = reshape_q_table(epsilon_results_sarsa[epsilon][1], 4, 21)\n",
    "\n",
    "    row, col = i // 5, i % 5\n",
    "\n",
    "    sns.heatmap(q_table_sarsa_heatmap, annot=False, cmap=\"coolwarm\", cbar=True, linewidths=.5, ax=axes[row, col])\n",
    "    axes[row, col].set_title(f\"Heatmap SARSA - Epsilon {epsilon}\", weight='bold')\n",
    "\n",
    "plt.tight_layout()\n",
    "plt.subplots_adjust(top=0.9)  # Adjust as needed for title space\n",
    "plt.suptitle(\"Heatmaps for SARSA with different Epsilon values\", weight='bold')\n",
    "#plt.savefig('HeatmapSARSA.png')\n",
    "plt.show()"
   ]
  },
  {
   "cell_type": "code",
   "execution_count": 590,
   "metadata": {
    "collapsed": false,
    "pycharm": {
     "name": "#%%\n"
    }
   },
   "outputs": [
    {
     "data": {
      "image/png": "[encoded data removed]",
      "text/plain": [
       "<Figure size 2000x800 with 10 Axes>"
      ]
     },
     "metadata": {},
     "output_type": "display_data"
    }
   ],
   "source": [
    "# Plot the Optimal Policies for the different epsilon values SARSA\n",
    "fig, axes = plt.subplots(nrows=2, ncols=5, figsize=(20, 8))  # Adjust as needed for optimal layout\n",
    "fig.suptitle(\"Cliff Walking Path for Different Epsilon Values\", weight='bold')\n",
    "\n",
    "axes = axes.flatten()\n",
    "\n",
    "for i, epsilon in enumerate(sorted(epsilon_results_sarsa.keys())):\n",
    "    ax = axes[i]\n",
    "    policy_or_message = epsilon_results_sarsa[epsilon][0]\n",
    "\n",
    "    # Check if the policy is a string (i.e., no policy found)\n",
    "    if isinstance(policy_or_message, str):\n",
    "        ax.text(0.5, 0.5, policy_or_message,\n",
    "                horizontalalignment='center',\n",
    "                verticalalignment='center',\n",
    "                transform=ax.transAxes,\n",
    "                fontsize=12, color='red')\n",
    "    else:\n",
    "        sns.heatmap(policy_or_message, annot=True, cmap=\"coolwarm\", cbar=False, linewidths=.5, ax=ax)\n",
    "\n",
    "    ax.set_title(f\"Epsilon {epsilon}\", weight='bold')\n",
    "\n",
    "plt.tight_layout()\n",
    "plt.subplots_adjust(top=0.9)  # Adjust as needed for title space\n",
    "plt.savefig('Optimal-policies-Sarsa.png')\n",
    "plt.show()"
   ]
  },
  {
   "cell_type": "markdown",
   "metadata": {
    "collapsed": false,
    "pycharm": {
     "name": "#%% md\n"
    }
   },
   "source": [
    "#### Q-learning with different epsilon values"
   ]
  },
  {
   "cell_type": "code",
   "execution_count": 671,
   "metadata": {
    "collapsed": false,
    "pycharm": {
     "name": "#%%\n"
    }
   },
   "outputs": [],
   "source": [
    "# Q-learning with different epsilon values\n",
    "epsilon_results_qlearning = dict()\n",
    "for epsilons in np.arange(0.0, 1, 0.1):\n",
    "    epsilon = round(epsilons,1)\n",
    "    optimal_policies = []\n",
    "    for i in range(10):\n",
    "        q_table_qlearning,rewards_sarsa = q_learning(epsilon,gamma=0.9,alpha=0.1)\n",
    "        optimal_path, optimal_policy_found = find_optimal_policy(q_table_qlearning)\n",
    "        if optimal_policy_found == True:\n",
    "            epsilon_results_qlearning[epsilon] = (optimal_path,q_table_qlearning)\n",
    "            break\n",
    "        elif i == 9:\n",
    "            epsilon_results_qlearning[epsilon] = (optimal_path,q_table_qlearning)"
   ]
  },
  {
   "cell_type": "code",
   "execution_count": 643,
   "metadata": {
    "collapsed": false,
    "pycharm": {
     "name": "#%%\n"
    }
   },
   "outputs": [],
   "source": [
    "# Plot the heatmaps for the different epsilon values Qlearning\n",
    "fig, axes = plt.subplots(nrows=2, ncols=5, figsize=(20, 8))\n",
    "\n",
    "for i, epsilon in enumerate(sorted(epsilon_results_qlearning.keys())):\n",
    "    q_table_qlearning_heatmap = (epsilon_results_qlearning[epsilon][1],4,21)\n",
    "    q_table_qlearning_heatmap = q_table_qlearning_heatmap.reshape((4, 21))\n",
    "\n",
    "    row, col = i // 5, i % 5\n",
    "\n",
    "    sns.heatmap(q_table_qlearning_heatmap, annot=False, cmap=\"coolwarm\", cbar=True, linewidths=.5, ax=axes[row, col])\n",
    "    axes[row, col].set_title(f\"Heatmap Qlearning - Epsilon {epsilon}\", weight='bold')\n",
    "\n",
    "plt.tight_layout()\n",
    "plt.subplots_adjust(top=0.9)  # Adjust as needed for title space\n",
    "plt.suptitle(\"Heatmaps for SARSA with different Epsilon values\", weight='bold')\n",
    "plt.savefig('HeatmapsQlearning.png')\n",
    "plt.show()"
   ]
  },
  {
   "cell_type": "code",
   "execution_count": 610,
   "metadata": {
    "collapsed": false,
    "pycharm": {
     "name": "#%%\n"
    }
   },
   "outputs": [
    {
     "data": {
      "image/png": "[encoded data removed]",
      "text/plain": [
       "<Figure size 2000x800 with 10 Axes>"
      ]
     },
     "metadata": {},
     "output_type": "display_data"
    }
   ],
   "source": [
    "# Plot the Optimal Policy for the different epsilon values Qlearning\n",
    "fig, axes = plt.subplots(nrows=2, ncols=5, figsize=(20, 8))  # Adjust as needed for optimal layout\n",
    "fig.suptitle(\"Cliff Walking Path for Different Epsilon Values\", weight='bold')\n",
    "\n",
    "axes = axes.flatten()\n",
    "\n",
    "for i, epsilon in enumerate(sorted(epsilon_results_qlearning.keys())):\n",
    "    ax = axes[i]\n",
    "    policy_or_message = epsilon_results_qlearning[epsilon][0]\n",
    "\n",
    "    # Check if the policy is a string (i.e., no policy found)\n",
    "    if isinstance(policy_or_message, str):\n",
    "        ax.text(0.5, 0.5, policy_or_message,\n",
    "                horizontalalignment='center',\n",
    "                verticalalignment='center',\n",
    "                transform=ax.transAxes,\n",
    "                fontsize=12, color='red')\n",
    "    else:\n",
    "        sns.heatmap(policy_or_message, annot=True, cmap=\"coolwarm\", cbar=False, linewidths=.5, ax=ax)\n",
    "\n",
    "    ax.set_title(f\"Epsilon {epsilon}\", weight='bold')\n",
    "\n",
    "plt.tight_layout()\n",
    "plt.subplots_adjust(top=0.9)  # Adjust as needed for title space\n",
    "plt.savefig('Optimal-policies-Qlearning.png')\n",
    "plt.show()"
   ]
  },
  {
   "cell_type": "markdown",
   "metadata": {
    "collapsed": false,
    "pycharm": {
     "name": "#%% md\n"
    }
   },
   "source": [
    "## Exercise 3.3 Snake Pit\n",
    "### Q-learning with snake pit"
   ]
  },
  {
   "cell_type": "code",
   "execution_count": 644,
   "metadata": {
    "collapsed": false,
    "pycharm": {
     "name": "#%%\n"
    }
   },
   "outputs": [],
   "source": [
    "# Adapt the Reward function to include the snake pit\n",
    "def get_reward_snake(state):\n",
    "    if state == 83:\n",
    "        reward = 20\n",
    "        game_ends = True\n",
    "        #print(\"Goal reached\")\n",
    "    elif 64 <= state <= 82:\n",
    "        reward = -100\n",
    "        game_ends = True\n",
    "        #print(\"Fell off cliff\")\n",
    "    elif state == 32 or state == 53:\n",
    "        reward = -100\n",
    "        game_ends = False\n",
    "        #print(\"Snack Pit\")\n",
    "    else:\n",
    "        reward = -1\n",
    "        game_ends = False\n",
    "    return reward, game_ends\n"
   ]
  },
  {
   "cell_type": "code",
   "execution_count": 737,
   "metadata": {
    "collapsed": false,
    "pycharm": {
     "name": "#%%\n"
    }
   },
   "outputs": [],
   "source": [
    "# Q-learning algorithm with snake pit\n",
    "def q_learning_snake(epsilon,episodes=10000, gamma=0.9, alpha=0.5):\n",
    "    q_table = create_q_table()\n",
    "    rewards = []\n",
    "    for episode in range(episodes):\n",
    "        environment = create_cliff_environment()\n",
    "        agent_position = (3,0)\n",
    "        environment[agent_position] = 1\n",
    "        game_ends = False\n",
    "        reward_cum = 0\n",
    "        while not game_ends:\n",
    "            agents_state, _= get_state(agent_position,q_table)\n",
    "            action = choose_action(agents_state, q_table,epsilon)\n",
    "            move_agent =  update_agent_position(agent_position, action)\n",
    "            environment[move_agent] = 1\n",
    "            next_state,maximum_state_value = get_state(move_agent,q_table)\n",
    "\n",
    "            reward, game_ends = get_reward_snake(next_state)\n",
    "            reward_cum += reward\n",
    "            q_table = update_qtable(q_table, agents_state, action, reward,maximum_state_value, gamma, alpha)\n",
    "            agent_position = move_agent\n",
    "        rewards.append(reward_cum)\n",
    "\n",
    "    return q_table,rewards\n"
   ]
  },
  {
   "cell_type": "code",
   "execution_count": 769,
   "metadata": {
    "collapsed": false,
    "pycharm": {
     "name": "#%%\n"
    }
   },
   "outputs": [],
   "source": [
    "q_table_qlearning_snake,rewards_qlearning  = q_learning_snake(epsilon = 0.1, alpha=0.5)\n",
    "optimal_policy_snake_qlearning = find_optimal_policy(q_table_qlearning_snake)\n"
   ]
  },
  {
   "cell_type": "code",
   "execution_count": 771,
   "metadata": {
    "collapsed": false,
    "pycharm": {
     "name": "#%%\n"
    }
   },
   "outputs": [
    {
     "data": {
      "image/png": "[encoded data removed]",
      "text/plain": [
       "<Figure size 1000x400 with 1 Axes>"
      ]
     },
     "metadata": {},
     "output_type": "display_data"
    }
   ],
   "source": [
    "# Optimal policy Snake-pit Q-learning\n",
    "plt.figure(figsize=(10, 4))\n",
    "sns.heatmap(optimal_policy_snake_qlearning[0], annot= True, cmap=\"coolwarm\", cbar=False, linewidths=.5,)\n",
    "plt.title(\"Cliff Walking Path - Snake Pit \", weight='bold')\n",
    "plt.savefig('SnakeQ.png')\n",
    "plt.show()"
   ]
  },
  {
   "cell_type": "markdown",
   "metadata": {
    "collapsed": false,
    "pycharm": {
     "name": "#%% md\n"
    }
   },
   "source": [
    "#### Sarsa Learning with snake pit"
   ]
  },
  {
   "cell_type": "code",
   "execution_count": 773,
   "metadata": {
    "collapsed": false,
    "pycharm": {
     "name": "#%%\n"
    }
   },
   "outputs": [],
   "source": [
    "# Sarsa Learning with snake pit\n",
    "def sarsa_learning_snake(epsilon, episodes=1000,gamma=0.9, alpha=0.5):\n",
    "    # Initialize the Q-table\n",
    "    q_table = create_q_table()\n",
    "    rewards = []\n",
    "    for episode in range(episodes):\n",
    "        environment_sarsa = create_cliff_environment()\n",
    "\n",
    "        agent_position = (3,0)\n",
    "        environment_sarsa[agent_position] = 1\n",
    "        state_sarsa, _ = get_state(agent_position, q_table)\n",
    "        action_sarsa = choose_action(state_sarsa, q_table,epsilon)\n",
    "        game_ends = False\n",
    "        reward_cum = 0\n",
    "        while not game_ends:\n",
    "            agent_position = update_agent_position(agent_position, action_sarsa)\n",
    "            environment_sarsa[agent_position] = 1\n",
    "            next_state, _ = get_state(agent_position, q_table)\n",
    "            reward, game_ends = get_reward_snake(next_state)\n",
    "            reward_cum += reward\n",
    "            next_action = choose_action(next_state, q_table, epsilon)\n",
    "\n",
    "            next_state_q = q_table[next_action][next_state]\n",
    "            q_table = update_qtable(q_table, state_sarsa, action_sarsa, reward, next_state_q, gamma, alpha)\n",
    "            state_sarsa = next_state\n",
    "            action_sarsa = next_action\n",
    "        rewards.append(reward_cum)\n",
    "\n",
    "    return q_table, rewards"
   ]
  },
  {
   "cell_type": "code",
   "execution_count": null,
   "metadata": {
    "collapsed": false,
    "pycharm": {
     "name": "#%%\n"
    }
   },
   "outputs": [],
   "source": [
    "optimal_snake_sarsa_policies = []\n",
    "for i in range(30):\n",
    "    q_table_sarsa,rewards_sarsa = sarsa_learning_snake(epsilon=0.1)\n",
    "    optimal_path = find_optimal_policy(q_table_sarsa)\n",
    "    optimal_snake_sarsa_policies.append(optimal_path)"
   ]
  },
  {
   "cell_type": "code",
   "execution_count": 667,
   "metadata": {
    "collapsed": false,
    "pycharm": {
     "name": "#%%\n"
    }
   },
   "outputs": [],
   "source": [
    "# Optimal policies Snake-pit SARSA\n",
    "sarsa_snake  = filter_np_arrays(optimal_snake_sarsa_policies)\n",
    "for i in range(len(sarsa_snake)):\n",
    "    print(sarsa_snake[i],\"\\n\")"
   ]
  },
  {
   "cell_type": "code",
   "execution_count": 666,
   "metadata": {
    "collapsed": false,
    "pycharm": {
     "name": "#%%\n"
    }
   },
   "outputs": [],
   "source": [
    "# Optimal policy Snake-pit Q-learning\n",
    "plt.figure(figsize=(10, 4))\n",
    "sns.heatmap(sarsa_snake[1], annot= True, cmap=\"coolwarm\", cbar=False, linewidths=.5,)\n",
    "plt.title(\"Cliff Walking Path - Snake Pit \", weight='bold')\n",
    "plt.savefig('SnakeSarsa.png')\n",
    "plt.show()"
   ]
  }
 ],
 "metadata": {
  "kernelspec": {
   "display_name": "Python 3 (ipykernel)",
   "language": "python",
   "name": "python3"
  },
  "language_info": {
   "codemirror_mode": {
    "name": "ipython",
    "version": 3
   },
   "file_extension": ".py",
   "mimetype": "text/x-python",
   "name": "python",
   "nbconvert_exporter": "python",
   "pygments_lexer": "ipython3",
   "version": "3.12.1"
  }
 },
 "nbformat": 4,
 "nbformat_minor": 5
}
